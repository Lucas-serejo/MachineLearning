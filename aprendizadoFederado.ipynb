{
 "cells": [
  {
   "cell_type": "code",
   "execution_count": 25,
   "metadata": {},
   "outputs": [
    {
     "name": "stdout",
     "output_type": "stream",
     "text": [
      "Requirement already satisfied: numpy in c:\\users\\beatr\\appdata\\local\\programs\\python\\python312\\lib\\site-packages (1.26.4)\n",
      "Requirement already satisfied: tensorflow in c:\\users\\beatr\\appdata\\local\\programs\\python\\python312\\lib\\site-packages (2.19.0)\n",
      "Requirement already satisfied: scikit-learn in c:\\users\\beatr\\appdata\\local\\programs\\python\\python312\\lib\\site-packages (1.6.1)\n",
      "Requirement already satisfied: absl-py>=1.0.0 in c:\\users\\beatr\\appdata\\local\\programs\\python\\python312\\lib\\site-packages (from tensorflow) (2.2.2)\n",
      "Requirement already satisfied: astunparse>=1.6.0 in c:\\users\\beatr\\appdata\\local\\programs\\python\\python312\\lib\\site-packages (from tensorflow) (1.6.3)\n",
      "Requirement already satisfied: flatbuffers>=24.3.25 in c:\\users\\beatr\\appdata\\local\\programs\\python\\python312\\lib\\site-packages (from tensorflow) (25.2.10)\n",
      "Requirement already satisfied: gast!=0.5.0,!=0.5.1,!=0.5.2,>=0.2.1 in c:\\users\\beatr\\appdata\\local\\programs\\python\\python312\\lib\\site-packages (from tensorflow) (0.6.0)\n",
      "Requirement already satisfied: google-pasta>=0.1.1 in c:\\users\\beatr\\appdata\\local\\programs\\python\\python312\\lib\\site-packages (from tensorflow) (0.2.0)\n",
      "Requirement already satisfied: libclang>=13.0.0 in c:\\users\\beatr\\appdata\\local\\programs\\python\\python312\\lib\\site-packages (from tensorflow) (18.1.1)\n",
      "Requirement already satisfied: opt-einsum>=2.3.2 in c:\\users\\beatr\\appdata\\local\\programs\\python\\python312\\lib\\site-packages (from tensorflow) (3.4.0)\n",
      "Requirement already satisfied: packaging in c:\\users\\beatr\\appdata\\local\\programs\\python\\python312\\lib\\site-packages (from tensorflow) (23.2)\n",
      "Requirement already satisfied: protobuf!=4.21.0,!=4.21.1,!=4.21.2,!=4.21.3,!=4.21.4,!=4.21.5,<6.0.0dev,>=3.20.3 in c:\\users\\beatr\\appdata\\local\\programs\\python\\python312\\lib\\site-packages (from tensorflow) (5.29.4)\n",
      "Requirement already satisfied: requests<3,>=2.21.0 in c:\\users\\beatr\\appdata\\local\\programs\\python\\python312\\lib\\site-packages (from tensorflow) (2.32.3)\n",
      "Requirement already satisfied: setuptools in c:\\users\\beatr\\appdata\\local\\programs\\python\\python312\\lib\\site-packages (from tensorflow) (69.2.0)\n",
      "Requirement already satisfied: six>=1.12.0 in c:\\users\\beatr\\appdata\\local\\programs\\python\\python312\\lib\\site-packages (from tensorflow) (1.16.0)\n",
      "Requirement already satisfied: termcolor>=1.1.0 in c:\\users\\beatr\\appdata\\local\\programs\\python\\python312\\lib\\site-packages (from tensorflow) (3.1.0)\n",
      "Requirement already satisfied: typing-extensions>=3.6.6 in c:\\users\\beatr\\appdata\\local\\programs\\python\\python312\\lib\\site-packages (from tensorflow) (4.10.0)\n",
      "Requirement already satisfied: wrapt>=1.11.0 in c:\\users\\beatr\\appdata\\local\\programs\\python\\python312\\lib\\site-packages (from tensorflow) (1.17.2)\n",
      "Requirement already satisfied: grpcio<2.0,>=1.24.3 in c:\\users\\beatr\\appdata\\local\\programs\\python\\python312\\lib\\site-packages (from tensorflow) (1.71.0)\n",
      "Requirement already satisfied: tensorboard~=2.19.0 in c:\\users\\beatr\\appdata\\local\\programs\\python\\python312\\lib\\site-packages (from tensorflow) (2.19.0)\n",
      "Requirement already satisfied: keras>=3.5.0 in c:\\users\\beatr\\appdata\\local\\programs\\python\\python312\\lib\\site-packages (from tensorflow) (3.9.2)\n",
      "Requirement already satisfied: h5py>=3.11.0 in c:\\users\\beatr\\appdata\\local\\programs\\python\\python312\\lib\\site-packages (from tensorflow) (3.13.0)\n",
      "Requirement already satisfied: ml-dtypes<1.0.0,>=0.5.1 in c:\\users\\beatr\\appdata\\local\\programs\\python\\python312\\lib\\site-packages (from tensorflow) (0.5.1)\n",
      "Requirement already satisfied: scipy>=1.6.0 in c:\\users\\beatr\\appdata\\local\\programs\\python\\python312\\lib\\site-packages (from scikit-learn) (1.15.3)\n",
      "Requirement already satisfied: joblib>=1.2.0 in c:\\users\\beatr\\appdata\\local\\programs\\python\\python312\\lib\\site-packages (from scikit-learn) (1.5.0)\n",
      "Requirement already satisfied: threadpoolctl>=3.1.0 in c:\\users\\beatr\\appdata\\local\\programs\\python\\python312\\lib\\site-packages (from scikit-learn) (3.6.0)\n",
      "Requirement already satisfied: wheel<1.0,>=0.23.0 in c:\\users\\beatr\\appdata\\local\\programs\\python\\python312\\lib\\site-packages (from astunparse>=1.6.0->tensorflow) (0.45.1)\n",
      "Requirement already satisfied: rich in c:\\users\\beatr\\appdata\\local\\programs\\python\\python312\\lib\\site-packages (from keras>=3.5.0->tensorflow) (14.0.0)\n",
      "Requirement already satisfied: namex in c:\\users\\beatr\\appdata\\local\\programs\\python\\python312\\lib\\site-packages (from keras>=3.5.0->tensorflow) (0.0.9)\n",
      "Requirement already satisfied: optree in c:\\users\\beatr\\appdata\\local\\programs\\python\\python312\\lib\\site-packages (from keras>=3.5.0->tensorflow) (0.15.0)\n",
      "Requirement already satisfied: charset-normalizer<4,>=2 in c:\\users\\beatr\\appdata\\local\\programs\\python\\python312\\lib\\site-packages (from requests<3,>=2.21.0->tensorflow) (3.4.1)\n",
      "Requirement already satisfied: idna<4,>=2.5 in c:\\users\\beatr\\appdata\\local\\programs\\python\\python312\\lib\\site-packages (from requests<3,>=2.21.0->tensorflow) (3.10)\n",
      "Requirement already satisfied: urllib3<3,>=1.21.1 in c:\\users\\beatr\\appdata\\local\\programs\\python\\python312\\lib\\site-packages (from requests<3,>=2.21.0->tensorflow) (2.3.0)\n",
      "Requirement already satisfied: certifi>=2017.4.17 in c:\\users\\beatr\\appdata\\local\\programs\\python\\python312\\lib\\site-packages (from requests<3,>=2.21.0->tensorflow) (2025.1.31)\n",
      "Requirement already satisfied: markdown>=2.6.8 in c:\\users\\beatr\\appdata\\local\\programs\\python\\python312\\lib\\site-packages (from tensorboard~=2.19.0->tensorflow) (3.8)\n",
      "Requirement already satisfied: tensorboard-data-server<0.8.0,>=0.7.0 in c:\\users\\beatr\\appdata\\local\\programs\\python\\python312\\lib\\site-packages (from tensorboard~=2.19.0->tensorflow) (0.7.2)\n",
      "Requirement already satisfied: werkzeug>=1.0.1 in c:\\users\\beatr\\appdata\\local\\programs\\python\\python312\\lib\\site-packages (from tensorboard~=2.19.0->tensorflow) (3.0.1)\n",
      "Requirement already satisfied: MarkupSafe>=2.1.1 in c:\\users\\beatr\\appdata\\local\\programs\\python\\python312\\lib\\site-packages (from werkzeug>=1.0.1->tensorboard~=2.19.0->tensorflow) (2.1.5)\n",
      "Requirement already satisfied: markdown-it-py>=2.2.0 in c:\\users\\beatr\\appdata\\local\\programs\\python\\python312\\lib\\site-packages (from rich->keras>=3.5.0->tensorflow) (3.0.0)\n",
      "Requirement already satisfied: pygments<3.0.0,>=2.13.0 in c:\\users\\beatr\\appdata\\local\\programs\\python\\python312\\lib\\site-packages (from rich->keras>=3.5.0->tensorflow) (2.19.1)\n",
      "Requirement already satisfied: mdurl~=0.1 in c:\\users\\beatr\\appdata\\local\\programs\\python\\python312\\lib\\site-packages (from markdown-it-py>=2.2.0->rich->keras>=3.5.0->tensorflow) (0.1.2)\n",
      "Note: you may need to restart the kernel to use updated packages.\n"
     ]
    },
    {
     "name": "stderr",
     "output_type": "stream",
     "text": [
      "\n",
      "[notice] A new release of pip is available: 25.0.1 -> 25.1.1\n",
      "[notice] To update, run: python.exe -m pip install --upgrade pip\n"
     ]
    }
   ],
   "source": [
    "%pip install numpy tensorflow scikit-learn "
   ]
  },
  {
   "cell_type": "code",
   "execution_count": 26,
   "id": "c76950cd",
   "metadata": {},
   "outputs": [],
   "source": [
    "import numpy as np\n",
    "import tensorflow as tf\n",
    "from tensorflow.keras.datasets import fashion_mnist\n",
    "from sklearn.utils import shuffle\n",
    "from tensorflow.keras.models import Sequential\n",
    "from tensorflow.keras.layers import Dense\n",
    "from tensorflow.keras.datasets import fashion_mnist\n",
    "\n",
    "(x_train, y_train), (x_test, y_test) = fashion_mnist.load_data()\n"
   ]
  },
  {
   "cell_type": "code",
   "execution_count": 27,
   "metadata": {},
   "outputs": [],
   "source": [
    "# 2. Normalizar os dados (0-1)\n",
    "# Essa etapa é importante para garantir que os valores dos pixels estejam na mesma escala (0 a 1),\n",
    "# o que ajuda a melhorar a performance e a estabilidade do treinamento do modelo.\n",
    "x_train = x_train.astype(\"float32\") / 255.0\n",
    "x_test = x_test.astype(\"float32\") / 255.0\n",
    "\n",
    "# 3. Achatar imagens para usar em MLP (28x28 → 784)\n",
    "# Isso é necessário porque redes MLP (Perceptron Multicamadas) esperam vetores unidimensionais como entrada,\n",
    "# então precisamos transformar as imagens 2D (28x28) em vetores 1D (784 elementos).\n",
    "x_train = x_train.reshape(-1, 28 * 28)\n",
    "x_test = x_test.reshape(-1, 28 * 28)\n",
    "\n",
    "# 4. Embaralhar os dados\n",
    "# Embaralhar os dados é importante para garantir que a ordem dos exemplos de treinamento\n",
    "# não introduza viés durante o treinamento do modelo.\n",
    "x_train, y_train = shuffle(x_train, y_train, random_state=42)"
   ]
  },
  {
   "cell_type": "code",
   "execution_count": 28,
   "metadata": {},
   "outputs": [
    {
     "name": "stdout",
     "output_type": "stream",
     "text": [
      "cliente_1: 12000 amostras\n",
      "cliente_2: 12000 amostras\n",
      "cliente_3: 12000 amostras\n",
      "cliente_4: 12000 amostras\n",
      "cliente_5: 12000 amostras\n"
     ]
    }
   ],
   "source": [
    "# 5. Dividir em 5 clientes\n",
    "num_clients = 5\n",
    "client_data = {}\n",
    "samples_per_client = x_train.shape[0] // num_clients\n",
    "\n",
    "for i in range(num_clients):\n",
    "    start = i * samples_per_client\n",
    "    end = (i + 1) * samples_per_client\n",
    "    client_data[f'cliente_{i+1}'] = {\n",
    "        'x': x_train[start:end],\n",
    "        'y': y_train[start:end]\n",
    "    }\n",
    "\n",
    "# 6. Verificação rápida\n",
    "for client, data in client_data.items():\n",
    "    print(f\"{client}: {data['x'].shape[0]} amostras\")"
   ]
  },
  {
   "cell_type": "code",
   "execution_count": 29,
   "metadata": {},
   "outputs": [],
   "source": [
    "# 7. Treinamento do modelo\n",
    "# Aqui, criamos um modelo simples de rede neural com uma camada oculta e uma camada de saída.\n",
    "# O modelo é compilado com o otimizador Adam e a função de perda de entropia cruzada esparsa.\n",
    "def criar_modelo():\n",
    "    modelo = Sequential([\n",
    "        Dense(128, activation='relu', input_shape=(784,)),\n",
    "        Dense(10, activation='softmax')\n",
    "    ])\n",
    "    modelo.compile(optimizer='adam',\n",
    "                   loss='sparse_categorical_crossentropy',\n",
    "                   metrics=['accuracy'])\n",
    "    return modelo\n"
   ]
  },
  {
   "cell_type": "code",
   "execution_count": 30,
   "metadata": {},
   "outputs": [],
   "source": [
    "# 8. Treinamento local em cada cliente\n",
    "# Cada cliente treina seu modelo localmente com seus próprios dados\n",
    "def treinar_localmente(modelo, x_dados, y_dados, epochs=5, batch_size=32):\n",
    "    modelo.fit(x_dados, y_dados, epochs=epochs, batch_size=batch_size, verbose=0)\n",
    "    return modelo.get_weights()\n"
   ]
  },
  {
   "cell_type": "code",
   "execution_count": 31,
   "metadata": {},
   "outputs": [],
   "source": [
    "# 9. Agregação dos pesos\n",
    "# A função `fed_avg` calcula a média dos pesos dos modelos treinados localmente pelos clientes.\n",
    "def fed_avg(pesos_clientes):\n",
    "    # pesos_clientes: lista de listas de arrays (pesos de cada cliente)\n",
    "    num_clientes = len(pesos_clientes)\n",
    "    media = []\n",
    "    \n",
    "    for camadas in zip(*pesos_clientes):\n",
    "        camada_media = np.mean(np.array(camadas), axis=0)\n",
    "        media.append(camada_media)\n",
    "    \n",
    "    return media"
   ]
  },
  {
   "cell_type": "code",
   "execution_count": 32,
   "metadata": {},
   "outputs": [
    {
     "name": "stdout",
     "output_type": "stream",
     "text": [
      "\n",
      "📡 Rodada Federada 1\n"
     ]
    },
    {
     "name": "stderr",
     "output_type": "stream",
     "text": [
      "c:\\Users\\beatr\\AppData\\Local\\Programs\\Python\\Python312\\Lib\\site-packages\\keras\\src\\layers\\core\\dense.py:87: UserWarning: Do not pass an `input_shape`/`input_dim` argument to a layer. When using Sequential models, prefer using an `Input(shape)` object as the first layer in the model instead.\n",
      "  super().__init__(activity_regularizer=activity_regularizer, **kwargs)\n"
     ]
    },
    {
     "name": "stdout",
     "output_type": "stream",
     "text": [
      "cliente_1 treinado.\n",
      "cliente_2 treinado.\n",
      "cliente_3 treinado.\n",
      "cliente_4 treinado.\n",
      "cliente_5 treinado.\n",
      "🧠 Modelo global atualizado.\n",
      "\n",
      "📡 Rodada Federada 2\n",
      "cliente_1 treinado.\n",
      "cliente_2 treinado.\n",
      "cliente_3 treinado.\n",
      "cliente_4 treinado.\n",
      "cliente_5 treinado.\n",
      "🧠 Modelo global atualizado.\n",
      "\n",
      "📡 Rodada Federada 3\n",
      "cliente_1 treinado.\n",
      "cliente_2 treinado.\n",
      "cliente_3 treinado.\n",
      "cliente_4 treinado.\n",
      "cliente_5 treinado.\n",
      "🧠 Modelo global atualizado.\n",
      "\n",
      "📡 Rodada Federada 4\n",
      "cliente_1 treinado.\n",
      "cliente_2 treinado.\n",
      "cliente_3 treinado.\n",
      "cliente_4 treinado.\n",
      "cliente_5 treinado.\n",
      "🧠 Modelo global atualizado.\n",
      "\n",
      "📡 Rodada Federada 5\n",
      "cliente_1 treinado.\n",
      "cliente_2 treinado.\n",
      "cliente_3 treinado.\n",
      "cliente_4 treinado.\n",
      "cliente_5 treinado.\n",
      "🧠 Modelo global atualizado.\n"
     ]
    }
   ],
   "source": [
    "# Parâmetros\n",
    "rodadas = 5\n",
    "epochs_local = 1\n",
    "modelo_global = criar_modelo()\n",
    "\n",
    "for r in range(rodadas):\n",
    "    print(f\"\\n📡 Rodada Federada {r+1}\")\n",
    "\n",
    "    pesos_clientes = []\n",
    "\n",
    "    # Etapa 1: cada cliente treina localmente\n",
    "    # Cada cliente treina seu modelo localmente com seus próprios dados\n",
    "    # e retorna os pesos treinados para o servidor.\n",
    "    # O servidor então agrega esses pesos para atualizar o modelo global.\n",
    "    for nome_cliente, dados in client_data.items():\n",
    "        modelo_local = criar_modelo()\n",
    "        modelo_local.set_weights(modelo_global.get_weights())\n",
    "        \n",
    "        pesos_treinados = treinar_localmente(\n",
    "            modelo_local,\n",
    "            dados['x'],\n",
    "            dados['y'],\n",
    "            epochs=epochs_local\n",
    "        )\n",
    "        pesos_clientes.append(pesos_treinados)\n",
    "        print(f\"{nome_cliente} treinado.\")\n",
    "\n",
    "    # Etapa 2: servidor faz agregação FedAvg\n",
    "    # O servidor agrega os pesos dos modelos locais para criar um modelo global.\n",
    "    # Isso é feito calculando a média dos pesos de cada camada dos modelos locais.\n",
    "    # A média é calculada para cada camada, resultando em um novo conjunto de pesos para o modelo global.\n",
    "    # O modelo global é então atualizado com esses pesos agregados.\n",
    "    pesos_agrupados = fed_avg(pesos_clientes)\n",
    "    modelo_global.set_weights(pesos_agrupados)\n",
    "    print(\"🧠 Modelo global atualizado.\")\n"
   ]
  },
  {
   "cell_type": "code",
   "execution_count": 33,
   "metadata": {},
   "outputs": [
    {
     "name": "stdout",
     "output_type": "stream",
     "text": [
      "Acurácia: 85.90%\n",
      "Perda (Loss): 0.3962\n"
     ]
    }
   ],
   "source": [
    "# Avaliar no conjunto de teste\n",
    "loss_fed, acc_fed = modelo_global.evaluate(x_test, y_test, verbose=0)\n",
    "print(f\"Acurácia: {acc_fed*100:.2f}%\")\n",
    "print(f\"Perda (Loss): {loss_fed:.4f}\")\n",
    "\n"
   ]
  },
  {
   "cell_type": "code",
   "execution_count": 34,
   "metadata": {},
   "outputs": [
    {
     "name": "stdout",
     "output_type": "stream",
     "text": [
      "Epoch 1/5\n",
      "\u001b[1m1875/1875\u001b[0m \u001b[32m━━━━━━━━━━━━━━━━━━━━\u001b[0m\u001b[37m\u001b[0m \u001b[1m5s\u001b[0m 2ms/step - accuracy: 0.7757 - loss: 0.6401\n",
      "Epoch 2/5\n",
      "\u001b[1m1875/1875\u001b[0m \u001b[32m━━━━━━━━━━━━━━━━━━━━\u001b[0m\u001b[37m\u001b[0m \u001b[1m4s\u001b[0m 2ms/step - accuracy: 0.8617 - loss: 0.3809\n",
      "Epoch 3/5\n",
      "\u001b[1m1875/1875\u001b[0m \u001b[32m━━━━━━━━━━━━━━━━━━━━\u001b[0m\u001b[37m\u001b[0m \u001b[1m4s\u001b[0m 2ms/step - accuracy: 0.8757 - loss: 0.3466\n",
      "Epoch 4/5\n",
      "\u001b[1m1875/1875\u001b[0m \u001b[32m━━━━━━━━━━━━━━━━━━━━\u001b[0m\u001b[37m\u001b[0m \u001b[1m4s\u001b[0m 2ms/step - accuracy: 0.8852 - loss: 0.3121\n",
      "Epoch 5/5\n",
      "\u001b[1m1875/1875\u001b[0m \u001b[32m━━━━━━━━━━━━━━━━━━━━\u001b[0m\u001b[37m\u001b[0m \u001b[1m4s\u001b[0m 2ms/step - accuracy: 0.8946 - loss: 0.2916\n",
      "\n",
      "🏁 Acurácia do modelo centralizado: 86.99%\n",
      "Perda (Loss): 0.3709\n"
     ]
    }
   ],
   "source": [
    "# Criar novo modelo centralizado\n",
    "modelo_centralizado = criar_modelo()\n",
    "\n",
    "# Treinar com todos os dados de treino\n",
    "modelo_centralizado.fit(x_train, y_train, epochs=5, batch_size=32, verbose=1)\n",
    "\n",
    "# Avaliar no conjunto de teste\n",
    "loss_central, acc_central = modelo_centralizado.evaluate(x_test, y_test, verbose=0)\n",
    "print(f\"\\n🏁 Acurácia do modelo centralizado: {acc_central * 100:.2f}%\")\n",
    "print(f\"Perda (Loss): {loss_central:.4f}\")\n"
   ]
  }
 ],
 "metadata": {
  "kernelspec": {
   "display_name": "Python 3",
   "language": "python",
   "name": "python3"
  },
  "language_info": {
   "codemirror_mode": {
    "name": "ipython",
    "version": 3
   },
   "file_extension": ".py",
   "mimetype": "text/x-python",
   "name": "python",
   "nbconvert_exporter": "python",
   "pygments_lexer": "ipython3",
   "version": "3.12.2"
  }
 },
 "nbformat": 4,
 "nbformat_minor": 5
}
